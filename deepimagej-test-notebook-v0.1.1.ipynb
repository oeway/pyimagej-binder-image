{
 "cells": [
  {
   "cell_type": "markdown",
   "metadata": {},
   "source": [
    "# Download fiji and deepimagej"
   ]
  },
  {
   "cell_type": "code",
   "execution_count": null,
   "metadata": {
    "scrolled": true
   },
   "outputs": [],
   "source": [
    "!mkdir /home/jovyan/\n",
    "!wget https://downloads.imagej.net/fiji/latest/fiji-linux64.zip\n",
    "!unzip fiji-linux64.zip -d /home/jovyan\n",
    "!wget https://github.com/deepimagej/deepimagej-plugin/releases/download/2.1.7-SNAPSHOT/DeepImageJ_-2.1.7-SNAPSHOT.jar\n",
    "!mv DeepImageJ_-2.1.7-SNAPSHOT.jar /home/jovyan/Fiji.app/plugins\n",
    "!wget https://github.com/deepimagej/deepimagej-plugin/releases/download/2.1.7-SNAPSHOT/dependencies_217.zip\n",
    "!unzip dependencies_217.zip\n",
    "!mv -f dependencies_2.1.7/* /home/jovyan/Fiji.app/jars/"
   ]
  },
  {
   "cell_type": "markdown",
   "metadata": {},
   "source": [
    "# ImageJ with Python Kernel"
   ]
  },
  {
   "cell_type": "markdown",
   "metadata": {},
   "source": [
    "This notebook covers how to use ImageJ as a library from Python. A major advantage of this approach is the ability to combine ImageJ with other tools available from the Python software ecosystem, including [NumPy](https://www.numpy.org/), [SciPy](https://www.scipy.org/), [scikit-image](https://scikit-image.org/), [CellProfiler](https://cellprofiler.org/), [OpenCV](https://opencv.org/), [ITK](https://itk.org/) and more.\n",
    "\n",
    "This notebook assumes familiarity with the ImageJ API. Detailed tutorials in that regard can be found in the [other notebooks](../ImageJ-Tutorials-and-Demo.ipynb)."
   ]
  },
  {
   "cell_type": "markdown",
   "metadata": {},
   "source": [
    "## Starting ImageJ from Python"
   ]
  },
  {
   "cell_type": "markdown",
   "metadata": {},
   "source": [
    "The [pyimagej](https://pypi.org/project/pyimagej/) module enables access to the entire ImageJ API from Python in a natural way.\n",
    "\n",
    "Let's initialize an ImageJ gateway including Fiji plugins, at a reproducible version:"
   ]
  },
  {
   "cell_type": "code",
   "execution_count": null,
   "metadata": {},
   "outputs": [],
   "source": [
    "# fix starting fiji issue https://forum.image.sc/t/fiji-fails-to-launch-after-update/44582\n",
    "!rm /home/jovyan/Fiji.app/jars/FilamentDetector-1.0.0.jar"
   ]
  },
  {
   "cell_type": "code",
   "execution_count": null,
   "metadata": {},
   "outputs": [],
   "source": [
    "import imagej\n",
    "ij = imagej.init('/home/jovyan/Fiji.app',headless=False)\n",
    "ij.getVersion()"
   ]
  },
  {
   "cell_type": "markdown",
   "metadata": {},
   "source": [
    "# Download a deepimagej model"
   ]
  },
  {
   "cell_type": "code",
   "execution_count": null,
   "metadata": {},
   "outputs": [],
   "source": [
    "!wget  https://zenodo.org/record/4608442/files/SMLM_Density%20Map_Estimation_%28DEFCoN%29.bioimage.io.model.zip\n",
    "!rm -rf /home/jovyan/Fiji.app/models/DEFCoN.bioimage.io.model\n",
    "!mkdir -p /home/jovyan/Fiji.app/models/DEFCoN.bioimage.io.model\n",
    "!unzip \"SMLM_Density Map_Estimation_(DEFCoN).bioimage.io.model.zip\" -d /home/jovyan/Fiji.app/models/DEFCoN.bioimage.io.model/"
   ]
  },
  {
   "cell_type": "code",
   "execution_count": null,
   "metadata": {},
   "outputs": [],
   "source": [
    "!ls /home/jovyan/Fiji.app/models/DEFCoN.bioimage.io.model/"
   ]
  },
  {
   "cell_type": "code",
   "execution_count": null,
   "metadata": {},
   "outputs": [],
   "source": [
    "macro = \"\"\"\n",
    "#@ String inputFile\n",
    "#@output String logString\n",
    "\n",
    "open(\"/home/jovyan/Fiji.app/models/DEFCoN.bioimage.io.model/exampleImage.tif\");\n",
    "selectWindow(\"exampleImage.tif\");\n",
    "saveAs(\"PNG\", \"/home/jovyan/input.png\");\n",
    "run(\"DeepImageJ Run\", \"model=[SMLM Density Map Estimation (DEFCoN)] format=Tensorflow preprocessing=[preprocessing.txt] postprocessing=[postprocessing.txt] axes=Y,X,C tile=84,84,1 logging=normal\");\n",
    "selectWindow(\"DEFCoN density map estimation of exampleImage.tif\");\n",
    "saveAs(\"PNG\", \"/home/jovyan/output.png\");\n",
    "\n",
    "IJ.log(\"Done\");\n",
    "logString = getInfo(\"log\");\n",
    "\"\"\"\n",
    "args = {\n",
    "    'inputFile': '\"/home/jovyan/Fiji.app/models/DEFCoN.bioimage.io.model/exampleImage.tif\"',\n",
    "}\n",
    "result = ij.py.run_macro(macro, args)\n",
    "print(result.getOutput('logString')) # it should print '...Done'"
   ]
  },
  {
   "cell_type": "code",
   "execution_count": null,
   "metadata": {},
   "outputs": [],
   "source": [
    "from jnius import autoclass\n",
    "WindowManager = autoclass('ij.WindowManager')\n",
    "# ij.py.run_macro(\"\"\"run(\"Blobs (25K)\");\"\"\")\n",
    "blobs = WindowManager.getCurrentImage()\n",
    "print(blobs)\n",
    "ij.py.show(blobs)"
   ]
  },
  {
   "cell_type": "code",
   "execution_count": null,
   "metadata": {},
   "outputs": [],
   "source": []
  }
 ],
 "metadata": {
  "kernelspec": {
   "display_name": "Python 3",
   "language": "python",
   "name": "python3"
  },
  "language_info": {
   "codemirror_mode": {
    "name": "ipython",
    "version": 3
   },
   "file_extension": ".py",
   "mimetype": "text/x-python",
   "name": "python",
   "nbconvert_exporter": "python",
   "pygments_lexer": "ipython3",
   "version": "3.8.8"
  },
  "toc": {
   "base_numbering": 1,
   "nav_menu": {},
   "number_sections": true,
   "sideBar": true,
   "skip_h1_title": true,
   "title_cell": "Table of Contents",
   "title_sidebar": "Contents",
   "toc_cell": false,
   "toc_position": {
    "height": "calc(100% - 180px)",
    "left": "10px",
    "top": "150px",
    "width": "307px"
   },
   "toc_section_display": true,
   "toc_window_display": true
  }
 },
 "nbformat": 4,
 "nbformat_minor": 2
}
